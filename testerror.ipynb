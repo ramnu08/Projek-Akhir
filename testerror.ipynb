{
 "cells": [
  {
   "cell_type": "code",
   "execution_count": 1,
   "metadata": {},
   "outputs": [
    {
     "name": "stdout",
     "output_type": "stream",
     "text": [
      "File berhasil dimuat.\n"
     ]
    }
   ],
   "source": [
    "import os\n",
    "import pickle\n",
    "\n",
    "file_path = 'pumpkin_perceptron.pkl'\n",
    "\n",
    "if os.path.isfile(file_path):\n",
    "    try:\n",
    "        with open(file_path, mode='rb') as file:\n",
    "            model = pickle.load(file)\n",
    "            print(\"File berhasil dimuat.\")\n",
    "    except Exception as e:\n",
    "        print(f\"Error saat memuat file: {e}\")\n",
    "else:\n",
    "    print(f\"File '{file_path}' tidak ditemukan.\")\n"
   ]
  }
 ],
 "metadata": {
  "kernelspec": {
   "display_name": "Python 3",
   "language": "python",
   "name": "python3"
  },
  "language_info": {
   "codemirror_mode": {
    "name": "ipython",
    "version": 3
   },
   "file_extension": ".py",
   "mimetype": "text/x-python",
   "name": "python",
   "nbconvert_exporter": "python",
   "pygments_lexer": "ipython3",
   "version": "3.11.9"
  }
 },
 "nbformat": 4,
 "nbformat_minor": 2
}
