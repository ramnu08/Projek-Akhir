{
 "cells": [
  {
   "cell_type": "code",
   "execution_count": 37,
   "metadata": {},
   "outputs": [],
   "source": [
    "import pandas as pd\n",
    "import numpy as np\n",
    "import seaborn as sns\n",
    "import matplotlib.pyplot as plt\n",
    "import pickle\n",
    "\n",
    "from sklearn.metrics import confusion_matrix, accuracy_score, classification_report, ConfusionMatrixDisplay\n",
    "from sklearn.svm import SVC\n",
    "from sklearn.preprocessing import StandardScaler\n",
    "from sklearn.model_selection import train_test_split\n"
   ]
  },
  {
   "cell_type": "markdown",
   "metadata": {},
   "source": []
  },
  {
   "cell_type": "code",
   "execution_count": 38,
   "metadata": {},
   "outputs": [
    {
     "data": {
      "text/html": [
       "<div>\n",
       "<style scoped>\n",
       "    .dataframe tbody tr th:only-of-type {\n",
       "        vertical-align: middle;\n",
       "    }\n",
       "\n",
       "    .dataframe tbody tr th {\n",
       "        vertical-align: top;\n",
       "    }\n",
       "\n",
       "    .dataframe thead th {\n",
       "        text-align: right;\n",
       "    }\n",
       "</style>\n",
       "<table border=\"1\" class=\"dataframe\">\n",
       "  <thead>\n",
       "    <tr style=\"text-align: right;\">\n",
       "      <th></th>\n",
       "      <th>Area</th>\n",
       "      <th>Perimeter</th>\n",
       "      <th>Major_Axis_Length</th>\n",
       "      <th>Minor_Axis_Length</th>\n",
       "      <th>Convex_Area</th>\n",
       "      <th>Equiv_Diameter</th>\n",
       "      <th>Eccentricity</th>\n",
       "      <th>Solidity</th>\n",
       "      <th>Extent</th>\n",
       "      <th>Roundness</th>\n",
       "      <th>Aspect_Ration</th>\n",
       "      <th>Compactness</th>\n",
       "      <th>Class</th>\n",
       "    </tr>\n",
       "  </thead>\n",
       "  <tbody>\n",
       "    <tr>\n",
       "      <th>0</th>\n",
       "      <td>56276</td>\n",
       "      <td>888.242</td>\n",
       "      <td>326.1485</td>\n",
       "      <td>220.2388</td>\n",
       "      <td>56831</td>\n",
       "      <td>267.6805</td>\n",
       "      <td>0.7376</td>\n",
       "      <td>0.9902</td>\n",
       "      <td>0.7453</td>\n",
       "      <td>0.8963</td>\n",
       "      <td>1.4809</td>\n",
       "      <td>0.8207</td>\n",
       "      <td>Çerçevelik</td>\n",
       "    </tr>\n",
       "    <tr>\n",
       "      <th>1</th>\n",
       "      <td>76631</td>\n",
       "      <td>1068.146</td>\n",
       "      <td>417.1932</td>\n",
       "      <td>234.2289</td>\n",
       "      <td>77280</td>\n",
       "      <td>312.3614</td>\n",
       "      <td>0.8275</td>\n",
       "      <td>0.9916</td>\n",
       "      <td>0.7151</td>\n",
       "      <td>0.8440</td>\n",
       "      <td>1.7811</td>\n",
       "      <td>0.7487</td>\n",
       "      <td>Çerçevelik</td>\n",
       "    </tr>\n",
       "    <tr>\n",
       "      <th>2</th>\n",
       "      <td>71623</td>\n",
       "      <td>1082.987</td>\n",
       "      <td>435.8328</td>\n",
       "      <td>211.0457</td>\n",
       "      <td>72663</td>\n",
       "      <td>301.9822</td>\n",
       "      <td>0.8749</td>\n",
       "      <td>0.9857</td>\n",
       "      <td>0.7400</td>\n",
       "      <td>0.7674</td>\n",
       "      <td>2.0651</td>\n",
       "      <td>0.6929</td>\n",
       "      <td>Çerçevelik</td>\n",
       "    </tr>\n",
       "    <tr>\n",
       "      <th>3</th>\n",
       "      <td>66458</td>\n",
       "      <td>992.051</td>\n",
       "      <td>381.5638</td>\n",
       "      <td>222.5322</td>\n",
       "      <td>67118</td>\n",
       "      <td>290.8899</td>\n",
       "      <td>0.8123</td>\n",
       "      <td>0.9902</td>\n",
       "      <td>0.7396</td>\n",
       "      <td>0.8486</td>\n",
       "      <td>1.7146</td>\n",
       "      <td>0.7624</td>\n",
       "      <td>Çerçevelik</td>\n",
       "    </tr>\n",
       "    <tr>\n",
       "      <th>4</th>\n",
       "      <td>66107</td>\n",
       "      <td>998.146</td>\n",
       "      <td>383.8883</td>\n",
       "      <td>220.4545</td>\n",
       "      <td>67117</td>\n",
       "      <td>290.1207</td>\n",
       "      <td>0.8187</td>\n",
       "      <td>0.9850</td>\n",
       "      <td>0.6752</td>\n",
       "      <td>0.8338</td>\n",
       "      <td>1.7413</td>\n",
       "      <td>0.7557</td>\n",
       "      <td>Çerçevelik</td>\n",
       "    </tr>\n",
       "    <tr>\n",
       "      <th>...</th>\n",
       "      <td>...</td>\n",
       "      <td>...</td>\n",
       "      <td>...</td>\n",
       "      <td>...</td>\n",
       "      <td>...</td>\n",
       "      <td>...</td>\n",
       "      <td>...</td>\n",
       "      <td>...</td>\n",
       "      <td>...</td>\n",
       "      <td>...</td>\n",
       "      <td>...</td>\n",
       "      <td>...</td>\n",
       "      <td>...</td>\n",
       "    </tr>\n",
       "    <tr>\n",
       "      <th>2495</th>\n",
       "      <td>79637</td>\n",
       "      <td>1224.710</td>\n",
       "      <td>533.1513</td>\n",
       "      <td>190.4367</td>\n",
       "      <td>80381</td>\n",
       "      <td>318.4289</td>\n",
       "      <td>0.9340</td>\n",
       "      <td>0.9907</td>\n",
       "      <td>0.4888</td>\n",
       "      <td>0.6672</td>\n",
       "      <td>2.7996</td>\n",
       "      <td>0.5973</td>\n",
       "      <td>Ürgüp Sivrisi</td>\n",
       "    </tr>\n",
       "    <tr>\n",
       "      <th>2496</th>\n",
       "      <td>69647</td>\n",
       "      <td>1084.318</td>\n",
       "      <td>462.9416</td>\n",
       "      <td>191.8210</td>\n",
       "      <td>70216</td>\n",
       "      <td>297.7874</td>\n",
       "      <td>0.9101</td>\n",
       "      <td>0.9919</td>\n",
       "      <td>0.6002</td>\n",
       "      <td>0.7444</td>\n",
       "      <td>2.4134</td>\n",
       "      <td>0.6433</td>\n",
       "      <td>Ürgüp Sivrisi</td>\n",
       "    </tr>\n",
       "    <tr>\n",
       "      <th>2497</th>\n",
       "      <td>87994</td>\n",
       "      <td>1210.314</td>\n",
       "      <td>507.2200</td>\n",
       "      <td>222.1872</td>\n",
       "      <td>88702</td>\n",
       "      <td>334.7199</td>\n",
       "      <td>0.8990</td>\n",
       "      <td>0.9920</td>\n",
       "      <td>0.7643</td>\n",
       "      <td>0.7549</td>\n",
       "      <td>2.2828</td>\n",
       "      <td>0.6599</td>\n",
       "      <td>Ürgüp Sivrisi</td>\n",
       "    </tr>\n",
       "    <tr>\n",
       "      <th>2498</th>\n",
       "      <td>80011</td>\n",
       "      <td>1182.947</td>\n",
       "      <td>501.9065</td>\n",
       "      <td>204.7531</td>\n",
       "      <td>80902</td>\n",
       "      <td>319.1758</td>\n",
       "      <td>0.9130</td>\n",
       "      <td>0.9890</td>\n",
       "      <td>0.7374</td>\n",
       "      <td>0.7185</td>\n",
       "      <td>2.4513</td>\n",
       "      <td>0.6359</td>\n",
       "      <td>Ürgüp Sivrisi</td>\n",
       "    </tr>\n",
       "    <tr>\n",
       "      <th>2499</th>\n",
       "      <td>84934</td>\n",
       "      <td>1159.933</td>\n",
       "      <td>462.8951</td>\n",
       "      <td>234.5597</td>\n",
       "      <td>85781</td>\n",
       "      <td>328.8485</td>\n",
       "      <td>0.8621</td>\n",
       "      <td>0.9901</td>\n",
       "      <td>0.7360</td>\n",
       "      <td>0.7933</td>\n",
       "      <td>1.9735</td>\n",
       "      <td>0.7104</td>\n",
       "      <td>Ürgüp Sivrisi</td>\n",
       "    </tr>\n",
       "  </tbody>\n",
       "</table>\n",
       "<p>2500 rows × 13 columns</p>\n",
       "</div>"
      ],
      "text/plain": [
       "       Area  Perimeter  Major_Axis_Length  Minor_Axis_Length  Convex_Area  \\\n",
       "0     56276    888.242           326.1485           220.2388        56831   \n",
       "1     76631   1068.146           417.1932           234.2289        77280   \n",
       "2     71623   1082.987           435.8328           211.0457        72663   \n",
       "3     66458    992.051           381.5638           222.5322        67118   \n",
       "4     66107    998.146           383.8883           220.4545        67117   \n",
       "...     ...        ...                ...                ...          ...   \n",
       "2495  79637   1224.710           533.1513           190.4367        80381   \n",
       "2496  69647   1084.318           462.9416           191.8210        70216   \n",
       "2497  87994   1210.314           507.2200           222.1872        88702   \n",
       "2498  80011   1182.947           501.9065           204.7531        80902   \n",
       "2499  84934   1159.933           462.8951           234.5597        85781   \n",
       "\n",
       "      Equiv_Diameter  Eccentricity  Solidity  Extent  Roundness  \\\n",
       "0           267.6805        0.7376    0.9902  0.7453     0.8963   \n",
       "1           312.3614        0.8275    0.9916  0.7151     0.8440   \n",
       "2           301.9822        0.8749    0.9857  0.7400     0.7674   \n",
       "3           290.8899        0.8123    0.9902  0.7396     0.8486   \n",
       "4           290.1207        0.8187    0.9850  0.6752     0.8338   \n",
       "...              ...           ...       ...     ...        ...   \n",
       "2495        318.4289        0.9340    0.9907  0.4888     0.6672   \n",
       "2496        297.7874        0.9101    0.9919  0.6002     0.7444   \n",
       "2497        334.7199        0.8990    0.9920  0.7643     0.7549   \n",
       "2498        319.1758        0.9130    0.9890  0.7374     0.7185   \n",
       "2499        328.8485        0.8621    0.9901  0.7360     0.7933   \n",
       "\n",
       "      Aspect_Ration  Compactness          Class  \n",
       "0            1.4809       0.8207     Çerçevelik  \n",
       "1            1.7811       0.7487     Çerçevelik  \n",
       "2            2.0651       0.6929     Çerçevelik  \n",
       "3            1.7146       0.7624     Çerçevelik  \n",
       "4            1.7413       0.7557     Çerçevelik  \n",
       "...             ...          ...            ...  \n",
       "2495         2.7996       0.5973  Ürgüp Sivrisi  \n",
       "2496         2.4134       0.6433  Ürgüp Sivrisi  \n",
       "2497         2.2828       0.6599  Ürgüp Sivrisi  \n",
       "2498         2.4513       0.6359  Ürgüp Sivrisi  \n",
       "2499         1.9735       0.7104  Ürgüp Sivrisi  \n",
       "\n",
       "[2500 rows x 13 columns]"
      ]
     },
     "execution_count": 38,
     "metadata": {},
     "output_type": "execute_result"
    }
   ],
   "source": [
    "df = pd.read_excel('Pumpkin_Seeds_Dataset.xlsx')\n",
    "data_fruit = pd.read_excel('fruit.xlsx')\n",
    "data_fish = pd.read_csv('fish_data.csv')\n",
    "df\n"
   ]
  },
  {
   "cell_type": "markdown",
   "metadata": {},
   "source": [
    "Data Understanding\n"
   ]
  },
  {
   "cell_type": "code",
   "execution_count": 39,
   "metadata": {},
   "outputs": [
    {
     "name": "stdout",
     "output_type": "stream",
     "text": [
      "Data Shape :  (2500, 13)\n"
     ]
    }
   ],
   "source": [
    "print(\"Data Shape : \", df.shape)"
   ]
  },
  {
   "cell_type": "code",
   "execution_count": 40,
   "metadata": {},
   "outputs": [
    {
     "name": "stdout",
     "output_type": "stream",
     "text": [
      "<class 'pandas.core.frame.DataFrame'>\n",
      "RangeIndex: 2500 entries, 0 to 2499\n",
      "Data columns (total 13 columns):\n",
      " #   Column             Non-Null Count  Dtype  \n",
      "---  ------             --------------  -----  \n",
      " 0   Area               2500 non-null   int64  \n",
      " 1   Perimeter          2500 non-null   float64\n",
      " 2   Major_Axis_Length  2500 non-null   float64\n",
      " 3   Minor_Axis_Length  2500 non-null   float64\n",
      " 4   Convex_Area        2500 non-null   int64  \n",
      " 5   Equiv_Diameter     2500 non-null   float64\n",
      " 6   Eccentricity       2500 non-null   float64\n",
      " 7   Solidity           2500 non-null   float64\n",
      " 8   Extent             2500 non-null   float64\n",
      " 9   Roundness          2500 non-null   float64\n",
      " 10  Aspect_Ration      2500 non-null   float64\n",
      " 11  Compactness        2500 non-null   float64\n",
      " 12  Class              2500 non-null   object \n",
      "dtypes: float64(10), int64(2), object(1)\n",
      "memory usage: 254.0+ KB\n"
     ]
    }
   ],
   "source": [
    "df.info()"
   ]
  },
  {
   "cell_type": "code",
   "execution_count": 41,
   "metadata": {},
   "outputs": [
    {
     "data": {
      "text/html": [
       "<div>\n",
       "<style scoped>\n",
       "    .dataframe tbody tr th:only-of-type {\n",
       "        vertical-align: middle;\n",
       "    }\n",
       "\n",
       "    .dataframe tbody tr th {\n",
       "        vertical-align: top;\n",
       "    }\n",
       "\n",
       "    .dataframe thead th {\n",
       "        text-align: right;\n",
       "    }\n",
       "</style>\n",
       "<table border=\"1\" class=\"dataframe\">\n",
       "  <thead>\n",
       "    <tr style=\"text-align: right;\">\n",
       "      <th></th>\n",
       "      <th>Area</th>\n",
       "      <th>Perimeter</th>\n",
       "      <th>Solidity</th>\n",
       "      <th>Extent</th>\n",
       "    </tr>\n",
       "  </thead>\n",
       "  <tbody>\n",
       "    <tr>\n",
       "      <th>count</th>\n",
       "      <td>2500.000000</td>\n",
       "      <td>2500.000000</td>\n",
       "      <td>2500.000000</td>\n",
       "      <td>2500.000000</td>\n",
       "    </tr>\n",
       "    <tr>\n",
       "      <th>mean</th>\n",
       "      <td>80658.220800</td>\n",
       "      <td>1130.279015</td>\n",
       "      <td>0.989492</td>\n",
       "      <td>0.693205</td>\n",
       "    </tr>\n",
       "    <tr>\n",
       "      <th>std</th>\n",
       "      <td>13664.510228</td>\n",
       "      <td>109.256418</td>\n",
       "      <td>0.003494</td>\n",
       "      <td>0.060914</td>\n",
       "    </tr>\n",
       "    <tr>\n",
       "      <th>min</th>\n",
       "      <td>47939.000000</td>\n",
       "      <td>868.485000</td>\n",
       "      <td>0.918600</td>\n",
       "      <td>0.468000</td>\n",
       "    </tr>\n",
       "    <tr>\n",
       "      <th>25%</th>\n",
       "      <td>70765.000000</td>\n",
       "      <td>1048.829750</td>\n",
       "      <td>0.988300</td>\n",
       "      <td>0.658900</td>\n",
       "    </tr>\n",
       "    <tr>\n",
       "      <th>50%</th>\n",
       "      <td>79076.000000</td>\n",
       "      <td>1123.672000</td>\n",
       "      <td>0.990300</td>\n",
       "      <td>0.713050</td>\n",
       "    </tr>\n",
       "    <tr>\n",
       "      <th>75%</th>\n",
       "      <td>89757.500000</td>\n",
       "      <td>1203.340500</td>\n",
       "      <td>0.991500</td>\n",
       "      <td>0.740225</td>\n",
       "    </tr>\n",
       "    <tr>\n",
       "      <th>max</th>\n",
       "      <td>136574.000000</td>\n",
       "      <td>1559.450000</td>\n",
       "      <td>0.994400</td>\n",
       "      <td>0.829600</td>\n",
       "    </tr>\n",
       "  </tbody>\n",
       "</table>\n",
       "</div>"
      ],
      "text/plain": [
       "                Area    Perimeter     Solidity       Extent\n",
       "count    2500.000000  2500.000000  2500.000000  2500.000000\n",
       "mean    80658.220800  1130.279015     0.989492     0.693205\n",
       "std     13664.510228   109.256418     0.003494     0.060914\n",
       "min     47939.000000   868.485000     0.918600     0.468000\n",
       "25%     70765.000000  1048.829750     0.988300     0.658900\n",
       "50%     79076.000000  1123.672000     0.990300     0.713050\n",
       "75%     89757.500000  1203.340500     0.991500     0.740225\n",
       "max    136574.000000  1559.450000     0.994400     0.829600"
      ]
     },
     "execution_count": 41,
     "metadata": {},
     "output_type": "execute_result"
    }
   ],
   "source": [
    "df[['Area', 'Perimeter', 'Solidity', 'Extent']].describe()"
   ]
  },
  {
   "cell_type": "code",
   "execution_count": 42,
   "metadata": {},
   "outputs": [
    {
     "data": {
      "text/plain": [
       "Class\n",
       "Çerçevelik       1300\n",
       "Ürgüp Sivrisi    1200\n",
       "Name: count, dtype: int64"
      ]
     },
     "execution_count": 42,
     "metadata": {},
     "output_type": "execute_result"
    }
   ],
   "source": [
    "df.Class.value_counts()"
   ]
  },
  {
   "cell_type": "markdown",
   "metadata": {},
   "source": [
    "Cleaning Data"
   ]
  },
  {
   "cell_type": "code",
   "execution_count": 43,
   "metadata": {},
   "outputs": [
    {
     "data": {
      "text/plain": [
       "Area                 0\n",
       "Perimeter            0\n",
       "Major_Axis_Length    0\n",
       "Minor_Axis_Length    0\n",
       "Convex_Area          0\n",
       "Equiv_Diameter       0\n",
       "Eccentricity         0\n",
       "Solidity             0\n",
       "Extent               0\n",
       "Roundness            0\n",
       "Aspect_Ration        0\n",
       "Compactness          0\n",
       "Class                0\n",
       "dtype: int64"
      ]
     },
     "execution_count": 43,
     "metadata": {},
     "output_type": "execute_result"
    }
   ],
   "source": [
    "df.isnull().sum()"
   ]
  },
  {
   "cell_type": "code",
   "execution_count": 44,
   "metadata": {},
   "outputs": [
    {
     "data": {
      "text/plain": [
       "0"
      ]
     },
     "execution_count": 44,
     "metadata": {},
     "output_type": "execute_result"
    }
   ],
   "source": [
    "df.duplicated().sum()"
   ]
  },
  {
   "cell_type": "markdown",
   "metadata": {},
   "source": [
    "Explorasi Data Analis (EDA)"
   ]
  },
  {
   "cell_type": "code",
   "execution_count": 45,
   "metadata": {},
   "outputs": [
    {
     "data": {
      "image/png": "[encoded data removed]",
      "text/plain": [
       "<Figure size 600x400 with 1 Axes>"
      ]
     },
     "metadata": {},
     "output_type": "display_data"
    }
   ],
   "source": [
    "plt.figure(figsize=(6,4))\n",
    "sns.histplot(data=df, x='Extent',bins=10, kde=True, color='#91008a')\n",
    "\n",
    "plt.title('Distribusi Extent')\n",
    "plt.xlabel('Extent')\n",
    "plt.ylabel('Frekuensi')\n",
    "plt.show()"
   ]
  },
  {
   "cell_type": "code",
   "execution_count": 46,
   "metadata": {},
   "outputs": [
    {
     "data": {
      "image/png": "[encoded data removed]",
      "text/plain": [
       "<Figure size 640x480 with 1 Axes>"
      ]
     },
     "metadata": {},
     "output_type": "display_data"
    }
   ],
   "source": [
    "sns.set_palette('pastel')\n",
    "df['Class'].value_counts().plot(kind='pie',autopct='%1.if%%')\n",
    "plt.title('Presenase Çerçevelik vs Ürgüp Sivrisi ')\n",
    "plt.show()"
   ]
  },
  {
   "cell_type": "code",
   "execution_count": 47,
   "metadata": {},
   "outputs": [
    {
     "name": "stderr",
     "output_type": "stream",
     "text": [
      "C:\\Users\\ALIF RAMA\\AppData\\Local\\Temp\\ipykernel_11748\\4034672840.py:2: FutureWarning: \n",
      "\n",
      "Passing `palette` without assigning `hue` is deprecated and will be removed in v0.14.0. Assign the `x` variable to `hue` and set `legend=False` for the same effect.\n",
      "\n",
      "  sns.countplot(data=df, x='Class', palette='rocket')\n"
     ]
    },
    {
     "data": {
      "image/png": "[encoded data removed]",
      "text/plain": [
       "<Figure size 600x400 with 1 Axes>"
      ]
     },
     "metadata": {},
     "output_type": "display_data"
    }
   ],
   "source": [
    "plt.figure(figsize=(6,4))\n",
    "sns.countplot(data=df, x='Class', palette='rocket')\n",
    "\n",
    "plt.title('Distribusi Pumpkin Seeds Diagnosis')\n",
    "plt.xlabel('Class / Label')\n",
    "plt.ylabel('Frekuensi')\n",
    "plt.show()"
   ]
  },
  {
   "cell_type": "code",
   "execution_count": 48,
   "metadata": {},
   "outputs": [],
   "source": [
    "df['Class']=df['Class'].replace(['Çerçevelik','Ürgüp Sivrisi'],[0,1])"
   ]
  },
  {
   "cell_type": "code",
   "execution_count": 49,
   "metadata": {},
   "outputs": [
    {
     "data": {
      "text/html": [
       "<div>\n",
       "<style scoped>\n",
       "    .dataframe tbody tr th:only-of-type {\n",
       "        vertical-align: middle;\n",
       "    }\n",
       "\n",
       "    .dataframe tbody tr th {\n",
       "        vertical-align: top;\n",
       "    }\n",
       "\n",
       "    .dataframe thead th {\n",
       "        text-align: right;\n",
       "    }\n",
       "</style>\n",
       "<table border=\"1\" class=\"dataframe\">\n",
       "  <thead>\n",
       "    <tr style=\"text-align: right;\">\n",
       "      <th></th>\n",
       "      <th>Area</th>\n",
       "      <th>Perimeter</th>\n",
       "      <th>Major_Axis_Length</th>\n",
       "      <th>Minor_Axis_Length</th>\n",
       "      <th>Convex_Area</th>\n",
       "      <th>Equiv_Diameter</th>\n",
       "      <th>Eccentricity</th>\n",
       "      <th>Solidity</th>\n",
       "      <th>Extent</th>\n",
       "      <th>Roundness</th>\n",
       "      <th>Aspect_Ration</th>\n",
       "      <th>Compactness</th>\n",
       "      <th>Class</th>\n",
       "    </tr>\n",
       "  </thead>\n",
       "  <tbody>\n",
       "    <tr>\n",
       "      <th>Area</th>\n",
       "      <td>1.000000</td>\n",
       "      <td>0.928548</td>\n",
       "      <td>0.789133</td>\n",
       "      <td>0.685304</td>\n",
       "      <td>0.999806</td>\n",
       "      <td>0.998464</td>\n",
       "      <td>0.159624</td>\n",
       "      <td>0.158388</td>\n",
       "      <td>-0.014018</td>\n",
       "      <td>-0.149378</td>\n",
       "      <td>0.159960</td>\n",
       "      <td>-0.160438</td>\n",
       "      <td>0.170280</td>\n",
       "    </tr>\n",
       "    <tr>\n",
       "      <th>Perimeter</th>\n",
       "      <td>0.928548</td>\n",
       "      <td>1.000000</td>\n",
       "      <td>0.946181</td>\n",
       "      <td>0.392913</td>\n",
       "      <td>0.929971</td>\n",
       "      <td>0.928055</td>\n",
       "      <td>0.464601</td>\n",
       "      <td>0.065340</td>\n",
       "      <td>-0.140600</td>\n",
       "      <td>-0.500968</td>\n",
       "      <td>0.487880</td>\n",
       "      <td>-0.484440</td>\n",
       "      <td>0.388345</td>\n",
       "    </tr>\n",
       "    <tr>\n",
       "      <th>Major_Axis_Length</th>\n",
       "      <td>0.789133</td>\n",
       "      <td>0.946181</td>\n",
       "      <td>1.000000</td>\n",
       "      <td>0.099376</td>\n",
       "      <td>0.789061</td>\n",
       "      <td>0.787078</td>\n",
       "      <td>0.704287</td>\n",
       "      <td>0.119291</td>\n",
       "      <td>-0.214990</td>\n",
       "      <td>-0.684972</td>\n",
       "      <td>0.729156</td>\n",
       "      <td>-0.726958</td>\n",
       "      <td>0.561458</td>\n",
       "    </tr>\n",
       "    <tr>\n",
       "      <th>Minor_Axis_Length</th>\n",
       "      <td>0.685304</td>\n",
       "      <td>0.392913</td>\n",
       "      <td>0.099376</td>\n",
       "      <td>1.000000</td>\n",
       "      <td>0.685634</td>\n",
       "      <td>0.690020</td>\n",
       "      <td>-0.590877</td>\n",
       "      <td>0.090915</td>\n",
       "      <td>0.233576</td>\n",
       "      <td>0.558566</td>\n",
       "      <td>-0.598475</td>\n",
       "      <td>0.603441</td>\n",
       "      <td>-0.401362</td>\n",
       "    </tr>\n",
       "    <tr>\n",
       "      <th>Convex_Area</th>\n",
       "      <td>0.999806</td>\n",
       "      <td>0.929971</td>\n",
       "      <td>0.789061</td>\n",
       "      <td>0.685634</td>\n",
       "      <td>1.000000</td>\n",
       "      <td>0.998289</td>\n",
       "      <td>0.159156</td>\n",
       "      <td>0.139178</td>\n",
       "      <td>-0.015449</td>\n",
       "      <td>-0.153615</td>\n",
       "      <td>0.159822</td>\n",
       "      <td>-0.160432</td>\n",
       "      <td>0.168029</td>\n",
       "    </tr>\n",
       "    <tr>\n",
       "      <th>Equiv_Diameter</th>\n",
       "      <td>0.998464</td>\n",
       "      <td>0.928055</td>\n",
       "      <td>0.787078</td>\n",
       "      <td>0.690020</td>\n",
       "      <td>0.998289</td>\n",
       "      <td>1.000000</td>\n",
       "      <td>0.156246</td>\n",
       "      <td>0.159454</td>\n",
       "      <td>-0.010970</td>\n",
       "      <td>-0.145313</td>\n",
       "      <td>0.155762</td>\n",
       "      <td>-0.156411</td>\n",
       "      <td>0.160303</td>\n",
       "    </tr>\n",
       "    <tr>\n",
       "      <th>Eccentricity</th>\n",
       "      <td>0.159624</td>\n",
       "      <td>0.464601</td>\n",
       "      <td>0.704287</td>\n",
       "      <td>-0.590877</td>\n",
       "      <td>0.159156</td>\n",
       "      <td>0.156246</td>\n",
       "      <td>1.000000</td>\n",
       "      <td>0.043991</td>\n",
       "      <td>-0.327316</td>\n",
       "      <td>-0.890651</td>\n",
       "      <td>0.950225</td>\n",
       "      <td>-0.981689</td>\n",
       "      <td>0.699319</td>\n",
       "    </tr>\n",
       "    <tr>\n",
       "      <th>Solidity</th>\n",
       "      <td>0.158388</td>\n",
       "      <td>0.065340</td>\n",
       "      <td>0.119291</td>\n",
       "      <td>0.090915</td>\n",
       "      <td>0.139178</td>\n",
       "      <td>0.159454</td>\n",
       "      <td>0.043991</td>\n",
       "      <td>1.000000</td>\n",
       "      <td>0.067537</td>\n",
       "      <td>0.200836</td>\n",
       "      <td>0.026410</td>\n",
       "      <td>-0.019967</td>\n",
       "      <td>0.122674</td>\n",
       "    </tr>\n",
       "    <tr>\n",
       "      <th>Extent</th>\n",
       "      <td>-0.014018</td>\n",
       "      <td>-0.140600</td>\n",
       "      <td>-0.214990</td>\n",
       "      <td>0.233576</td>\n",
       "      <td>-0.015449</td>\n",
       "      <td>-0.010970</td>\n",
       "      <td>-0.327316</td>\n",
       "      <td>0.067537</td>\n",
       "      <td>1.000000</td>\n",
       "      <td>0.352338</td>\n",
       "      <td>-0.329933</td>\n",
       "      <td>0.336984</td>\n",
       "      <td>-0.236076</td>\n",
       "    </tr>\n",
       "    <tr>\n",
       "      <th>Roundness</th>\n",
       "      <td>-0.149378</td>\n",
       "      <td>-0.500968</td>\n",
       "      <td>-0.684972</td>\n",
       "      <td>0.558566</td>\n",
       "      <td>-0.153615</td>\n",
       "      <td>-0.145313</td>\n",
       "      <td>-0.890651</td>\n",
       "      <td>0.200836</td>\n",
       "      <td>0.352338</td>\n",
       "      <td>1.000000</td>\n",
       "      <td>-0.935233</td>\n",
       "      <td>0.933308</td>\n",
       "      <td>-0.669514</td>\n",
       "    </tr>\n",
       "    <tr>\n",
       "      <th>Aspect_Ration</th>\n",
       "      <td>0.159960</td>\n",
       "      <td>0.487880</td>\n",
       "      <td>0.729156</td>\n",
       "      <td>-0.598475</td>\n",
       "      <td>0.159822</td>\n",
       "      <td>0.155762</td>\n",
       "      <td>0.950225</td>\n",
       "      <td>0.026410</td>\n",
       "      <td>-0.329933</td>\n",
       "      <td>-0.935233</td>\n",
       "      <td>1.000000</td>\n",
       "      <td>-0.990778</td>\n",
       "      <td>0.721796</td>\n",
       "    </tr>\n",
       "    <tr>\n",
       "      <th>Compactness</th>\n",
       "      <td>-0.160438</td>\n",
       "      <td>-0.484440</td>\n",
       "      <td>-0.726958</td>\n",
       "      <td>0.603441</td>\n",
       "      <td>-0.160432</td>\n",
       "      <td>-0.156411</td>\n",
       "      <td>-0.981689</td>\n",
       "      <td>-0.019967</td>\n",
       "      <td>0.336984</td>\n",
       "      <td>0.933308</td>\n",
       "      <td>-0.990778</td>\n",
       "      <td>1.000000</td>\n",
       "      <td>-0.726676</td>\n",
       "    </tr>\n",
       "    <tr>\n",
       "      <th>Class</th>\n",
       "      <td>0.170280</td>\n",
       "      <td>0.388345</td>\n",
       "      <td>0.561458</td>\n",
       "      <td>-0.401362</td>\n",
       "      <td>0.168029</td>\n",
       "      <td>0.160303</td>\n",
       "      <td>0.699319</td>\n",
       "      <td>0.122674</td>\n",
       "      <td>-0.236076</td>\n",
       "      <td>-0.669514</td>\n",
       "      <td>0.721796</td>\n",
       "      <td>-0.726676</td>\n",
       "      <td>1.000000</td>\n",
       "    </tr>\n",
       "  </tbody>\n",
       "</table>\n",
       "</div>"
      ],
      "text/plain": [
       "                       Area  Perimeter  Major_Axis_Length  Minor_Axis_Length  \\\n",
       "Area               1.000000   0.928548           0.789133           0.685304   \n",
       "Perimeter          0.928548   1.000000           0.946181           0.392913   \n",
       "Major_Axis_Length  0.789133   0.946181           1.000000           0.099376   \n",
       "Minor_Axis_Length  0.685304   0.392913           0.099376           1.000000   \n",
       "Convex_Area        0.999806   0.929971           0.789061           0.685634   \n",
       "Equiv_Diameter     0.998464   0.928055           0.787078           0.690020   \n",
       "Eccentricity       0.159624   0.464601           0.704287          -0.590877   \n",
       "Solidity           0.158388   0.065340           0.119291           0.090915   \n",
       "Extent            -0.014018  -0.140600          -0.214990           0.233576   \n",
       "Roundness         -0.149378  -0.500968          -0.684972           0.558566   \n",
       "Aspect_Ration      0.159960   0.487880           0.729156          -0.598475   \n",
       "Compactness       -0.160438  -0.484440          -0.726958           0.603441   \n",
       "Class              0.170280   0.388345           0.561458          -0.401362   \n",
       "\n",
       "                   Convex_Area  Equiv_Diameter  Eccentricity  Solidity  \\\n",
       "Area                  0.999806        0.998464      0.159624  0.158388   \n",
       "Perimeter             0.929971        0.928055      0.464601  0.065340   \n",
       "Major_Axis_Length     0.789061        0.787078      0.704287  0.119291   \n",
       "Minor_Axis_Length     0.685634        0.690020     -0.590877  0.090915   \n",
       "Convex_Area           1.000000        0.998289      0.159156  0.139178   \n",
       "Equiv_Diameter        0.998289        1.000000      0.156246  0.159454   \n",
       "Eccentricity          0.159156        0.156246      1.000000  0.043991   \n",
       "Solidity              0.139178        0.159454      0.043991  1.000000   \n",
       "Extent               -0.015449       -0.010970     -0.327316  0.067537   \n",
       "Roundness            -0.153615       -0.145313     -0.890651  0.200836   \n",
       "Aspect_Ration         0.159822        0.155762      0.950225  0.026410   \n",
       "Compactness          -0.160432       -0.156411     -0.981689 -0.019967   \n",
       "Class                 0.168029        0.160303      0.699319  0.122674   \n",
       "\n",
       "                     Extent  Roundness  Aspect_Ration  Compactness     Class  \n",
       "Area              -0.014018  -0.149378       0.159960    -0.160438  0.170280  \n",
       "Perimeter         -0.140600  -0.500968       0.487880    -0.484440  0.388345  \n",
       "Major_Axis_Length -0.214990  -0.684972       0.729156    -0.726958  0.561458  \n",
       "Minor_Axis_Length  0.233576   0.558566      -0.598475     0.603441 -0.401362  \n",
       "Convex_Area       -0.015449  -0.153615       0.159822    -0.160432  0.168029  \n",
       "Equiv_Diameter    -0.010970  -0.145313       0.155762    -0.156411  0.160303  \n",
       "Eccentricity      -0.327316  -0.890651       0.950225    -0.981689  0.699319  \n",
       "Solidity           0.067537   0.200836       0.026410    -0.019967  0.122674  \n",
       "Extent             1.000000   0.352338      -0.329933     0.336984 -0.236076  \n",
       "Roundness          0.352338   1.000000      -0.935233     0.933308 -0.669514  \n",
       "Aspect_Ration     -0.329933  -0.935233       1.000000    -0.990778  0.721796  \n",
       "Compactness        0.336984   0.933308      -0.990778     1.000000 -0.726676  \n",
       "Class             -0.236076  -0.669514       0.721796    -0.726676  1.000000  "
      ]
     },
     "execution_count": 49,
     "metadata": {},
     "output_type": "execute_result"
    }
   ],
   "source": [
    "df.corr()"
   ]
  },
  {
   "cell_type": "code",
   "execution_count": 50,
   "metadata": {},
   "outputs": [
    {
     "data": {
      "text/plain": [
       "<Axes: >"
      ]
     },
     "execution_count": 50,
     "metadata": {},
     "output_type": "execute_result"
    },
    {
     "data": {
      "image/png": "[encoded data removed]",
      "text/plain": [
       "<Figure size 600x400 with 2 Axes>"
      ]
     },
     "metadata": {},
     "output_type": "display_data"
    }
   ],
   "source": [
    "plt.figure(figsize=(6,4))\n",
    "sns.heatmap(df.corr(), cmap='BuPu')"
   ]
  },
  {
   "cell_type": "code",
   "execution_count": 51,
   "metadata": {},
   "outputs": [],
   "source": [
    "df['Class']=df['Class'].replace([0,1], ['Çerçevelik','Ürgüp Sivrisi'])"
   ]
  },
  {
   "cell_type": "markdown",
   "metadata": {},
   "source": [
    "Preparation Data"
   ]
  },
  {
   "cell_type": "code",
   "execution_count": 52,
   "metadata": {},
   "outputs": [
    {
     "name": "stdout",
     "output_type": "stream",
     "text": [
      "x :  (2500, 12)\n",
      "y :  (2500,)\n"
     ]
    }
   ],
   "source": [
    "x=df.drop(columns=['Class'])\n",
    "y=df['Class']\n",
    "\n",
    "xbu = data_fruit.drop(columns=['name'])\n",
    "ybu = data_fruit['name']\n",
    "\n",
    "xfi = data_fish.drop(columns=['species'])\n",
    "yfi = data_fish['species']\n",
    "\n",
    "print(\"x : \",x.shape)\n",
    "print(\"y : \",y.shape)"
   ]
  },
  {
   "cell_type": "code",
   "execution_count": 53,
   "metadata": {},
   "outputs": [],
   "source": [
    "scaler=StandardScaler()\n",
    "scaler.fit(x)\n",
    "x = scaler.transform(x)\n",
    "\n",
    "scaler.fit(xbu)\n",
    "xbu= scaler.transform(xbu)\n",
    "\n",
    "scaler.fit(xfi)\n",
    "xfi= scaler.transform(xfi)"
   ]
  },
  {
   "cell_type": "code",
   "execution_count": 54,
   "metadata": {},
   "outputs": [],
   "source": [
    "x_train, x_test, y_train, y_test = train_test_split(x,y, test_size=0.2, random_state=42)\n",
    "\n",
    "x_train_bu, x_test_bu, y_train_bu, y_test_bu = train_test_split(xbu,ybu, test_size=0.2, random_state=42)\n",
    "\n",
    "x_train_fi, x_test_fi, y_train_fi, y_test_fi = train_test_split(xfi,yfi, test_size=0.2, random_state=42)"
   ]
  },
  {
   "cell_type": "markdown",
   "metadata": {},
   "source": [
    "Modeling & Evaluasi"
   ]
  },
  {
   "cell_type": "code",
   "execution_count": 55,
   "metadata": {},
   "outputs": [
    {
     "name": "stdout",
     "output_type": "stream",
     "text": [
      "               precision    recall  f1-score   support\n",
      "\n",
      "   Çerçevelik       0.83      0.90      0.86       251\n",
      "Ürgüp Sivrisi       0.89      0.81      0.85       249\n",
      "\n",
      "     accuracy                           0.86       500\n",
      "    macro avg       0.86      0.86      0.86       500\n",
      " weighted avg       0.86      0.86      0.86       500\n",
      "\n",
      "Akurasi SVM : 85.60%\n"
     ]
    }
   ],
   "source": [
    "clf=SVC(kernel='linear')\n",
    "\n",
    "clf.fit(x_train,y_train)\n",
    "fw = open('pumpkin_svm.pkl' , 'wb')\n",
    "md = pickle.dump(clf , fw)\n",
    "\n",
    "y_pred=clf.predict(x_test)\n",
    "CLF_acc=accuracy_score(y_pred,y_test)\n",
    "\n",
    "print(classification_report(y_test,y_pred))\n",
    "print(\"Akurasi SVM : {:.2f}%\".format(CLF_acc*100))"
   ]
  },
  {
   "cell_type": "code",
   "execution_count": 56,
   "metadata": {},
   "outputs": [
    {
     "name": "stdout",
     "output_type": "stream",
     "text": [
      "Akurasi Dataset Pumpkin Seeds :85.6%\n",
      "Akurasi Dataset Fruit :95.15%\n",
      "Akurasi Dataset Fish :92.52450980392157%\n"
     ]
    }
   ],
   "source": [
    "print(f\"Akurasi Dataset Pumpkin Seeds :{CLF_acc*100}%\")\n",
    "\n",
    "clf.fit(x_train_bu, y_train_bu)\n",
    "fw = open('fruit_svm.pkl' , 'wb')\n",
    "md = pickle.dump(clf , fw)\n",
    "y_pred_bu = clf.predict(x_test_bu)\n",
    "akurasi_bu=accuracy_score(y_pred_bu, y_test_bu)\n",
    "print(f\"Akurasi Dataset Fruit :{akurasi_bu*100}%\")\n",
    "\n",
    "clf.fit(x_train_fi, y_train_fi)\n",
    "fw = open('fish_svm.pkl' , 'wb')\n",
    "md = pickle.dump(clf , fw)\n",
    "y_pred_fi = clf.predict(x_test_fi)\n",
    "akurasi_fi=accuracy_score(y_pred_fi, y_test_fi)\n",
    "print(f\"Akurasi Dataset Fish :{akurasi_fi*100}%\")"
   ]
  },
  {
   "cell_type": "markdown",
   "metadata": {},
   "source": [
    "Testing"
   ]
  },
  {
   "cell_type": "code",
   "execution_count": 57,
   "metadata": {},
   "outputs": [
    {
     "data": {
      "text/html": [
       "<div>\n",
       "<style scoped>\n",
       "    .dataframe tbody tr th:only-of-type {\n",
       "        vertical-align: middle;\n",
       "    }\n",
       "\n",
       "    .dataframe tbody tr th {\n",
       "        vertical-align: top;\n",
       "    }\n",
       "\n",
       "    .dataframe thead th {\n",
       "        text-align: right;\n",
       "    }\n",
       "</style>\n",
       "<table border=\"1\" class=\"dataframe\">\n",
       "  <thead>\n",
       "    <tr style=\"text-align: right;\">\n",
       "      <th></th>\n",
       "      <th>Area</th>\n",
       "      <th>Perimeter</th>\n",
       "      <th>Major_Axis_Length</th>\n",
       "      <th>Minor_Axis_Length</th>\n",
       "      <th>Convex_Area</th>\n",
       "      <th>Equiv_Diameter</th>\n",
       "      <th>Eccentricity</th>\n",
       "      <th>Solidity</th>\n",
       "      <th>Extent</th>\n",
       "      <th>Roundness</th>\n",
       "      <th>Aspect_Ration</th>\n",
       "      <th>Compactness</th>\n",
       "    </tr>\n",
       "  </thead>\n",
       "  <tbody>\n",
       "    <tr>\n",
       "      <th>0</th>\n",
       "      <td>68321</td>\n",
       "      <td>1140.811</td>\n",
       "      <td>781.0820</td>\n",
       "      <td>381.7740</td>\n",
       "      <td>77819</td>\n",
       "      <td>517.9260</td>\n",
       "      <td>0.630</td>\n",
       "      <td>0.9516</td>\n",
       "      <td>0.9153</td>\n",
       "      <td>0.8416</td>\n",
       "      <td>3.7810</td>\n",
       "      <td>0.7612</td>\n",
       "    </tr>\n",
       "    <tr>\n",
       "      <th>1</th>\n",
       "      <td>83537</td>\n",
       "      <td>1329.710</td>\n",
       "      <td>511.1513</td>\n",
       "      <td>204.4367</td>\n",
       "      <td>84381</td>\n",
       "      <td>298.4289</td>\n",
       "      <td>0.984</td>\n",
       "      <td>0.9907</td>\n",
       "      <td>0.5798</td>\n",
       "      <td>0.5972</td>\n",
       "      <td>2.5996</td>\n",
       "      <td>0.5973</td>\n",
       "    </tr>\n",
       "  </tbody>\n",
       "</table>\n",
       "</div>"
      ],
      "text/plain": [
       "    Area  Perimeter  Major_Axis_Length  Minor_Axis_Length  Convex_Area  \\\n",
       "0  68321   1140.811           781.0820           381.7740        77819   \n",
       "1  83537   1329.710           511.1513           204.4367        84381   \n",
       "\n",
       "   Equiv_Diameter  Eccentricity  Solidity  Extent  Roundness  Aspect_Ration  \\\n",
       "0        517.9260         0.630    0.9516  0.9153     0.8416         3.7810   \n",
       "1        298.4289         0.984    0.9907  0.5798     0.5972         2.5996   \n",
       "\n",
       "   Compactness  \n",
       "0       0.7612  \n",
       "1       0.5973  "
      ]
     },
     "execution_count": 57,
     "metadata": {},
     "output_type": "execute_result"
    }
   ],
   "source": [
    "new_data={'Area': [68321, 83537],\n",
    "          'Perimeter' : [1140.811, 1329.710],\n",
    "          'Major_Axis_Length' : [781.082, 511.1513],\n",
    "          'Minor_Axis_Length' : [381.774, 204.4367],\n",
    "          'Convex_Area' : [77819, 84381],\n",
    "          'Equiv_Diameter' : [517.926, 298.4289],\n",
    "          'Eccentricity' : [0.630, 0.9840],\n",
    "          'Solidity' : [0.9516, 0.9907],\n",
    "          'Extent' : [0.9153, 0.5798],\n",
    "          'Roundness' : [0.8416, 0.5972],\n",
    "          'Aspect_Ration' : [3.7810, 2.5996],\n",
    "          'Compactness' : [0.7612, 0.5973]}\n",
    "\n",
    "\n",
    "new_data =pd.DataFrame(new_data)\n",
    "new_data"
   ]
  },
  {
   "cell_type": "code",
   "execution_count": 58,
   "metadata": {},
   "outputs": [
    {
     "name": "stdout",
     "output_type": "stream",
     "text": [
      "Diagnosis Data Baru :  ['Ürgüp Sivrisi' 'Ürgüp Sivrisi']\n"
     ]
    },
    {
     "name": "stderr",
     "output_type": "stream",
     "text": [
      "C:\\Users\\ALIF RAMA\\AppData\\Local\\Packages\\PythonSoftwareFoundation.Python.3.11_qbz5n2kfra8p0\\LocalCache\\local-packages\\Python311\\site-packages\\sklearn\\base.py:486: UserWarning: X has feature names, but StandardScaler was fitted without feature names\n",
      "  warnings.warn(\n"
     ]
    }
   ],
   "source": [
    "clf.fit(x_train,y_train)\n",
    "scaler.fit(x)\n",
    "scaled_new_data = scaler.transform(new_data)\n",
    "y_pred_new=clf.predict(scaled_new_data)\n",
    "\n",
    "\n",
    "print(\"Diagnosis Data Baru : \", y_pred_new)\n"
   ]
  },
  {
   "cell_type": "code",
   "execution_count": 59,
   "metadata": {},
   "outputs": [
    {
     "name": "stdout",
     "output_type": "stream",
     "text": [
      "Hasil Prediksi dari model :  ['Ürgüp Sivrisi' 'Ürgüp Sivrisi']\n"
     ]
    },
    {
     "name": "stderr",
     "output_type": "stream",
     "text": [
      "C:\\Users\\ALIF RAMA\\AppData\\Local\\Packages\\PythonSoftwareFoundation.Python.3.11_qbz5n2kfra8p0\\LocalCache\\local-packages\\Python311\\site-packages\\sklearn\\base.py:486: UserWarning: X has feature names, but SVC was fitted without feature names\n",
      "  warnings.warn(\n"
     ]
    }
   ],
   "source": [
    "opf = open('pumpkin_svm.pkl' , 'rb')\n",
    "model = pickle.load(opf)\n",
    "y_pred_model = model.predict(new_data)\n",
    "\n",
    "print(\"Hasil Prediksi dari model : \",y_pred_model)"
   ]
  }
 ],
 "metadata": {
  "kernelspec": {
   "display_name": "Python 3",
   "language": "python",
   "name": "python3"
  },
  "language_info": {
   "codemirror_mode": {
    "name": "ipython",
    "version": 3
   },
   "file_extension": ".py",
   "mimetype": "text/x-python",
   "name": "python",
   "nbconvert_exporter": "python",
   "pygments_lexer": "ipython3",
   "version": "3.11.9"
  }
 },
 "nbformat": 4,
 "nbformat_minor": 2
}
